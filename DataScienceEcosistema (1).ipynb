{
 "cells": [
  {
   "cell_type": "markdown",
   "id": "292c55c3-764c-4b50-bfbe-b53f6080bcfa",
   "metadata": {},
   "source": [
    "# Data Science Tools and Ecosystem."
   ]
  },
  {
   "cell_type": "markdown",
   "id": "04b21d9f-9ade-4267-87d8-0eb2f0ce5ab1",
   "metadata": {},
   "source": [
    "## Author"
   ]
  },
  {
   "cell_type": "markdown",
   "id": "318d1655-ebd9-4943-a441-9f22831c7ff8",
   "metadata": {},
   "source": [
    "## Diego Martínez."
   ]
  },
  {
   "cell_type": "markdown",
   "id": "ca5a0724-8182-445c-ab88-ff36cabdae35",
   "metadata": {},
   "source": [
    "## In this notebook Data Science tools and Ecosystem are summarized."
   ]
  },
  {
   "cell_type": "markdown",
   "id": "0cd6e279-00e3-47a6-b4ea-57afb1bcbde0",
   "metadata": {},
   "source": [
    "**Objetives**"
   ]
  },
  {
   "cell_type": "markdown",
   "id": "6c0cfa3c-772f-441a-ab1e-8e01179d78fa",
   "metadata": {},
   "source": [
    "#This will convert 200 minutes to hours by diving by 60."
   ]
  },
  {
   "cell_type": "code",
   "execution_count": 86,
   "id": "7c247659-dc20-41b3-ae4e-eb3c690d555f",
   "metadata": {},
   "outputs": [
    {
     "data": {
      "text/plain": [
       "3.3333333333333335"
      ]
     },
     "execution_count": 86,
     "metadata": {},
     "output_type": "execute_result"
    }
   ],
   "source": [
    "200/60"
   ]
  },
  {
   "cell_type": "markdown",
   "id": "79b2ad6b-3e0d-45fe-a95b-0363cf78e6ac",
   "metadata": {},
   "source": [
    "**Some of the popular languages that Data Scientists use are:**"
   ]
  },
  {
   "cell_type": "markdown",
   "id": "9dd035f6-a322-4f45-9da5-990ed2f6bf2b",
   "metadata": {},
   "source": [
    "1- Python"
   ]
  },
  {
   "cell_type": "markdown",
   "id": "606207c4-b1c6-4ed2-9e6a-38ae2b6eb178",
   "metadata": {},
   "source": [
    "2-R"
   ]
  },
  {
   "cell_type": "markdown",
   "id": "68da32a5-3e33-4983-ac13-e1ebf03cb26d",
   "metadata": {},
   "source": [
    "3-Julia"
   ]
  },
  {
   "cell_type": "markdown",
   "id": "efb5b3d4-0900-4d1d-8baa-1f46f6136ef9",
   "metadata": {},
   "source": [
    "4-Scala"
   ]
  },
  {
   "cell_type": "markdown",
   "id": "31a54a37-f3fb-4c30-a654-535e00490f37",
   "metadata": {},
   "source": [
    "5-Java"
   ]
  },
  {
   "cell_type": "markdown",
   "id": "a97924e2-4b08-4dfb-9d19-7622d5a335c1",
   "metadata": {},
   "source": [
    "6-Matlab"
   ]
  },
  {
   "cell_type": "markdown",
   "id": "5cb014d8-bee9-497a-9fe2-47f14fb70326",
   "metadata": {},
   "source": [
    "7-Sas"
   ]
  },
  {
   "cell_type": "markdown",
   "id": "5c7a1b91-e898-4fe0-9d00-1207aca7bacd",
   "metadata": {},
   "source": [
    "**Some of the commonly used libraries used by Data Scientists include:**"
   ]
  },
  {
   "cell_type": "markdown",
   "id": "6cc7a3b1-0122-4f79-9809-1c6b346b615b",
   "metadata": {},
   "source": [
    "**Python libraries**"
   ]
  },
  {
   "cell_type": "markdown",
   "id": "c8a0da5e-2ba3-4946-9152-b8a89cc2668a",
   "metadata": {},
   "source": [
    "Pandas-Numply-TensorFlow-Matplotib-Keras."
   ]
  },
  {
   "cell_type": "markdown",
   "id": "d7f564dc-f086-4130-9379-38cf7fe74baf",
   "metadata": {},
   "source": [
    "**R libraries**"
   ]
  },
  {
   "cell_type": "markdown",
   "id": "491ab4c1-6b2e-463c-a256-e3d81f4b80c1",
   "metadata": {},
   "source": [
    "Ggplot-dplyr-tydiverse-caret."
   ]
  },
  {
   "cell_type": "markdown",
   "id": "59468a07-f5a5-4879-afc5-e2ce8ddbbaa3",
   "metadata": {},
   "source": [
    "**SQL libraries**"
   ]
  },
  {
   "cell_type": "markdown",
   "id": "f410f07e-7f7c-4c96-8cf6-fc4f8cb518cd",
   "metadata": {},
   "source": [
    "SqlAlchemy-pscopg2"
   ]
  },
  {
   "cell_type": "markdown",
   "id": "51ff081a-9df6-4846-b84d-0d58173503ab",
   "metadata": {},
   "source": [
    "**Julia and Scala libraires**"
   ]
  },
  {
   "cell_type": "markdown",
   "id": "5caed756-ac83-4e65-8c88-d5c849fb6d99",
   "metadata": {},
   "source": [
    "DataFrame.jl-flux.jl-Apache Spark-Breeze"
   ]
  },
  {
   "cell_type": "markdown",
   "id": "62f6c406-ea01-4e91-82a1-b22c22531fcc",
   "metadata": {},
   "source": [
    "#**DATA SCIENCE TOOLS**"
   ]
  },
  {
   "cell_type": "markdown",
   "id": "ac019d94-5fea-4a65-b5ab-f8a2450329a7",
   "metadata": {},
   "source": [
    "-----------------------"
   ]
  },
  {
   "cell_type": "markdown",
   "id": "d2c7d863-2124-49ab-8220-ee1f35f4a64d",
   "metadata": {},
   "source": [
    "1-Jupyter Notebook"
   ]
  },
  {
   "cell_type": "markdown",
   "id": "d8d3e860-9277-43ea-b010-fece3ac1ebf3",
   "metadata": {},
   "source": [
    "2-RStudio"
   ]
  },
  {
   "cell_type": "markdown",
   "id": "98e8fd6a-41e7-4975-a2f6-cd4e1d215f51",
   "metadata": {},
   "source": [
    "3-Apache Zeppelin"
   ]
  },
  {
   "cell_type": "markdown",
   "id": "2634712f-dd6b-4875-9a01-a06a836e8495",
   "metadata": {},
   "source": [
    "4-Visual Studio Code"
   ]
  },
  {
   "cell_type": "markdown",
   "id": "dfd35e7b-7372-4f1c-ac14-4cc35d56f94e",
   "metadata": {},
   "source": [
    "### Below are a few examples of evaluating aritmetic expressions in Python."
   ]
  },
  {
   "cell_type": "markdown",
   "id": "d4249738-9b04-403a-afd3-932978c97992",
   "metadata": {},
   "source": [
    "#Example Addition"
   ]
  },
  {
   "cell_type": "code",
   "execution_count": 40,
   "id": "f8e89d1a-62e8-42a8-86f5-9397529c103c",
   "metadata": {},
   "outputs": [
    {
     "data": {
      "text/plain": [
       "2"
      ]
     },
     "execution_count": 40,
     "metadata": {},
     "output_type": "execute_result"
    }
   ],
   "source": [
    "1+1"
   ]
  },
  {
   "cell_type": "markdown",
   "id": "70019736-5932-4df2-8b64-3b60578cec76",
   "metadata": {},
   "source": [
    "#Example Subtraction"
   ]
  },
  {
   "cell_type": "code",
   "execution_count": 42,
   "id": "64b7ec7a-f775-4d2b-b70f-7348c526207e",
   "metadata": {},
   "outputs": [
    {
     "data": {
      "text/plain": [
       "0"
      ]
     },
     "execution_count": 42,
     "metadata": {},
     "output_type": "execute_result"
    }
   ],
   "source": [
    "4-4"
   ]
  },
  {
   "cell_type": "markdown",
   "id": "3866c6f2-2298-496c-966d-254067b88d66",
   "metadata": {},
   "source": [
    "#Example Multiplication"
   ]
  },
  {
   "cell_type": "code",
   "execution_count": 44,
   "id": "82509753-c793-41ff-9497-008db828aa88",
   "metadata": {},
   "outputs": [
    {
     "data": {
      "text/plain": [
       "15"
      ]
     },
     "execution_count": 44,
     "metadata": {},
     "output_type": "execute_result"
    }
   ],
   "source": [
    "3*5"
   ]
  },
  {
   "cell_type": "markdown",
   "id": "cc818e5d-8b6d-4b25-983e-72614b29c21a",
   "metadata": {},
   "source": [
    "#Example Division"
   ]
  },
  {
   "cell_type": "code",
   "execution_count": 46,
   "id": "49b5e5d4-2f13-4104-b52d-461f2e5bcfd9",
   "metadata": {},
   "outputs": [
    {
     "data": {
      "text/plain": [
       "4.0"
      ]
     },
     "execution_count": 46,
     "metadata": {},
     "output_type": "execute_result"
    }
   ],
   "source": [
    "16/4"
   ]
  },
  {
   "cell_type": "markdown",
   "id": "0d282543-9038-4008-85d0-88134f5eac51",
   "metadata": {},
   "source": [
    "#This a simple aritmetic expression to mutiply then add integers"
   ]
  },
  {
   "cell_type": "code",
   "execution_count": 57,
   "id": "b631b45e-7bcc-4e78-8c69-80f05d0a4949",
   "metadata": {},
   "outputs": [
    {
     "data": {
      "text/plain": [
       "17"
      ]
     },
     "execution_count": 57,
     "metadata": {},
     "output_type": "execute_result"
    }
   ],
   "source": [
    "(3*4)+5"
   ]
  },
  {
   "cell_type": "markdown",
   "id": "377ecbe0-f2fc-4de1-9e43-088f15aa72a2",
   "metadata": {},
   "source": [
    "#This will convert 200 minutes to hours by diving by 60."
   ]
  },
  {
   "cell_type": "code",
   "execution_count": null,
   "id": "bd227611-93db-4d2f-bb35-0da62f1a7416",
   "metadata": {},
   "outputs": [],
   "source": [
    "minutes = 200"
   ]
  },
  {
   "cell_type": "code",
   "execution_count": null,
   "id": "cb1b8b20-ce61-4278-a0d0-6ccb12517f16",
   "metadata": {},
   "outputs": [],
   "source": [
    "hours = minutes / 60"
   ]
  },
  {
   "cell_type": "code",
   "execution_count": 86,
   "id": "b528a486-10c6-4bda-8c05-4a6cea67ffa5",
   "metadata": {},
   "outputs": [
    {
     "data": {
      "text/plain": [
       "3.3333333333333335"
      ]
     },
     "execution_count": 86,
     "metadata": {},
     "output_type": "execute_result"
    }
   ],
   "source": [
    "200/60"
   ]
  },
  {
   "cell_type": "code",
   "execution_count": null,
   "id": "1e819397-82f4-40ed-a978-656fd828ed4a",
   "metadata": {},
   "outputs": [],
   "source": []
  }
 ],
 "metadata": {
  "kernelspec": {
   "display_name": "Python 3 (ipykernel)",
   "language": "python",
   "name": "python3"
  },
  "language_info": {
   "codemirror_mode": {
    "name": "ipython",
    "version": 3
   },
   "file_extension": ".py",
   "mimetype": "text/x-python",
   "name": "python",
   "nbconvert_exporter": "python",
   "pygments_lexer": "ipython3",
   "version": "3.12.4"
  }
 },
 "nbformat": 4,
 "nbformat_minor": 5
}
